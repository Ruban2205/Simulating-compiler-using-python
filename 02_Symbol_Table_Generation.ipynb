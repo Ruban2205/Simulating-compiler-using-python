{
 "cells": [
  {
   "cell_type": "code",
   "execution_count": null,
   "id": "88b9e032",
   "metadata": {},
   "outputs": [],
   "source": [
    "symbol_table = {}\n",
    "\n",
    "with open('input.txt', 'r') as f: \n",
    "    input_str = f.read()\n",
    "\n",
    "tokens = input_str.split()\n",
    "\n",
    "for token in tokens: \n",
    "    if token.isalpha() and token not in symbol_table: \n",
    "        symbol_table[token] = len(symbol_table) + 1\n",
    "\n",
    "print(\"Symbol Table: \")\n",
    "\n",
    "for symbol, index in symbol_table.items(): \n",
    "    print(f\"{symbol} : {index}\")"
   ]
  }
 ],
 "metadata": {
  "kernelspec": {
   "display_name": "Python 3",
   "language": "python",
   "name": "python3"
  },
  "language_info": {
   "codemirror_mode": {
    "name": "ipython",
    "version": 3
   },
   "file_extension": ".py",
   "mimetype": "text/x-python",
   "name": "python",
   "nbconvert_exporter": "python",
   "pygments_lexer": "ipython3",
   "version": "3.10.2"
  }
 },
 "nbformat": 4,
 "nbformat_minor": 5
}
