{
 "cells": [
  {
   "cell_type": "code",
   "execution_count": null,
   "id": "8162e933",
   "metadata": {},
   "outputs": [],
   "source": [
    "# Getting inputs from the user: \n",
    "\n",
    "no_of_states = int(input(\"Enter the number of state: \"))\n",
    "states = [input(\"Enter the states: \") for i in range(0, no_of_states)]\n",
    "\n",
    "no_of_keys = int(input(\"Enter the number of Keys: \"))\n",
    "keys = [input(\"Enter the keys: \") for i in range(0, no_of_keys)]\n",
    "\n",
    "final_state = input(\"Enter the final state: \")\n",
    "k = [0 for i in range(len(states))]\n",
    "\n",
    "for i in range(len(states)): \n",
    "    k[i] = [0 for j in range(len(keys))]\n",
    "    \n",
    "    for j in range(len(keys)): \n",
    "        k[i][j] = input(\"From \" + states[i] + ' if ' + keys[j] + ' go: ')\n",
    "        \n",
    "\n",
    "# Main Function: \n",
    "\n",
    "def convert(p, q): \n",
    "    li.append(k[states.index(p)][keys.index(q)])\n",
    "    return k[states.index(p)][keys.index(q)]\n",
    "\n",
    "while True: \n",
    "    li = [] \n",
    "    start = states[0]\n",
    "    \n",
    "    string_to_check = input(\"Enter the string to check: \")\n",
    "    \n",
    "    for i in string_to_check: \n",
    "        start = convert(start, i)\n",
    "        \n",
    "    if (li[-1] == final_state):\n",
    "        print(\"Yes\")\n",
    "        break\n",
    "    else: \n",
    "        print(\"No\")"
   ]
  }
 ],
 "metadata": {
  "kernelspec": {
   "display_name": "Python 3",
   "language": "python",
   "name": "python3"
  },
  "language_info": {
   "codemirror_mode": {
    "name": "ipython",
    "version": 3
   },
   "file_extension": ".py",
   "mimetype": "text/x-python",
   "name": "python",
   "nbconvert_exporter": "python",
   "pygments_lexer": "ipython3",
   "version": "3.10.2"
  }
 },
 "nbformat": 4,
 "nbformat_minor": 5
}
