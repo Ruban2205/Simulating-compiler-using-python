{
 "cells": [
  {
   "cell_type": "code",
   "execution_count": 5,
   "id": "c6974e0b",
   "metadata": {},
   "outputs": [
    {
     "name": "stdout",
     "output_type": "stream",
     "text": [
      "Symbol Table\n",
      "{'ALPHA': '1006', 'BETA': '1009'}\n",
      "\n",
      "Op Table\n",
      "{'STA': '23', 'LDA': '00'}\n",
      "\n",
      "Final Answer\n",
      "\n",
      "H^COPY^1000^0c\n",
      "T^001000^06^001006^231009\n",
      "E^001000\n"
     ]
    }
   ],
   "source": [
    "# Getting the input from the files: \n",
    "\n",
    "input_file = open(\"Input_files/06_input.txt\", 'r').read()\n",
    "file_input = input_file.splitlines()\n",
    "\n",
    "\n",
    "# Read and Print the Symbol table from the input file: \n",
    "\n",
    "sym_table = {sym.split()[0]:\n",
    "             sym.split()[1] for sym in open('Input_files/06_Symbol_table.txt').readlines()}\n",
    "print(\"Symbol Table\")\n",
    "print(sym_table)\n",
    "\n",
    "print()\n",
    "\n",
    "\n",
    "# Read and print the optable from the input file\n",
    "\n",
    "op_table = {op.split()[0]: \n",
    "            op.split()[1] for op in open(\"Input_files/06_Optable.txt\").readlines()}\n",
    "print(\"Op Table\")\n",
    "print(op_table)\n",
    "\n",
    "\n",
    "# Main Function: \n",
    "\n",
    "print(\"\\nFinal Answer\\n\")\n",
    "\n",
    "add = file_input[0].split()[-1]\n",
    "\n",
    "ans = \"T^\" + \"00\" + str(add) + \"^06\"\n",
    "\n",
    "for i in file_input:\n",
    "    if \"START\" in i: \n",
    "        print(\"H^{}^{}^0c\".format(i.split()[0], i.split()[-1]))\n",
    "    elif len(i.split()) == 2: \n",
    "        ans += \"^\" + str(op_table [i.split()[0]]) + str(sym_table[i.split()[1]])\n",
    "        \n",
    "print(ans)\n",
    "print(\"E^00{}\".format(add))"
   ]
  },
  {
   "cell_type": "code",
   "execution_count": null,
   "id": "5ad15717",
   "metadata": {},
   "outputs": [],
   "source": []
  }
 ],
 "metadata": {
  "kernelspec": {
   "display_name": "Python 3",
   "language": "python",
   "name": "python3"
  },
  "language_info": {
   "codemirror_mode": {
    "name": "ipython",
    "version": 3
   },
   "file_extension": ".py",
   "mimetype": "text/x-python",
   "name": "python",
   "nbconvert_exporter": "python",
   "pygments_lexer": "ipython3",
   "version": "3.10.2"
  }
 },
 "nbformat": 4,
 "nbformat_minor": 5
}
