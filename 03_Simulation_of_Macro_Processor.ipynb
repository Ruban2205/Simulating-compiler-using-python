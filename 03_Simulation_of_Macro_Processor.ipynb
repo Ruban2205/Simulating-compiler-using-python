{
 "cells": [
  {
   "cell_type": "code",
   "execution_count": null,
   "id": "add7dda2",
   "metadata": {},
   "outputs": [],
   "source": [
    "def parse_macro(input_lines): \n",
    "    macros = {}\n",
    "    for line in input_lines: \n",
    "        if line.startswith('#define'): \n",
    "            parts = line.split()\n",
    "            if len(parts) >= 3: \n",
    "                macro_name = parts[1]\n",
    "                macro_value = \" \".join(parts[2:])\n",
    "                macros[macro_name] = macro_value\n",
    "    return macros\n",
    "\n",
    "def macro_expanded(line, macro): \n",
    "    words = line.split()\n",
    "    for i in range(len(words)): \n",
    "        if words[i] in macro: \n",
    "            words[i] = macro[words[i]]\n",
    "    return \" \".join(words)\n",
    "\n",
    "def file(input_file, output_file):\n",
    "    with open('input_file', 'r') as f: \n",
    "        input_lines = f.readlines()\n",
    "    macro = parse_macro(input_lines)\n",
    "\n",
    "    with open('output_file', 'w'): \n",
    "        for line in input_lines: \n",
    "            if not line.startswith('#define'): \n",
    "                expanded = macro_expanded(line, macro)\n",
    "                f.write(expanded)\n",
    "\n",
    "file(\"input.txt\", \"output.txt\")"
   ]
  }
 ],
 "metadata": {
  "kernelspec": {
   "display_name": "Python 3",
   "language": "python",
   "name": "python3"
  },
  "language_info": {
   "codemirror_mode": {
    "name": "ipython",
    "version": 3
   },
   "file_extension": ".py",
   "mimetype": "text/x-python",
   "name": "python",
   "nbconvert_exporter": "python",
   "pygments_lexer": "ipython3",
   "version": "3.10.2"
  }
 },
 "nbformat": 4,
 "nbformat_minor": 5
}
