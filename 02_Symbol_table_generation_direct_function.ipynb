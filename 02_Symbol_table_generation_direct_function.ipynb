{
 "cells": [
  {
   "cell_type": "markdown",
   "id": "d6b375e6",
   "metadata": {},
   "source": [
    "### Symbol table generation with predefined Input"
   ]
  },
  {
   "cell_type": "code",
   "execution_count": 3,
   "id": "b3dd85ca",
   "metadata": {},
   "outputs": [
    {
     "name": "stdout",
     "output_type": "stream",
     "text": [
      "Table Name:  top\n",
      "Symbols:  [<symbol 'x'>, <symbol 'foo'>]\n"
     ]
    }
   ],
   "source": [
    "# Importing symbol table module.\n",
    "\n",
    "import symtable \n",
    "\n",
    "\n",
    "# Defining the Source code\n",
    "\n",
    "source_code = '''\n",
    "x = 1 \n",
    "def foo(): \n",
    "    y = 2\n",
    "    print(x+y)\n",
    "    \n",
    "foo()\n",
    "'''\n",
    "\n",
    "# Generating a Symbol Table\n",
    "\n",
    "table = symtable.symtable(source_code, 'example.py', 'exec')\n",
    "print(\"Table Name: \", table.get_name())\n",
    "print(\"Symbols: \", table.get_symbols())"
   ]
  },
  {
   "cell_type": "markdown",
   "id": "65746d91",
   "metadata": {},
   "source": [
    "### Symbol table generation with User Input"
   ]
  },
  {
   "cell_type": "code",
   "execution_count": 16,
   "id": "ea8c4eb9",
   "metadata": {},
   "outputs": [
    {
     "name": "stdout",
     "output_type": "stream",
     "text": [
      "Table Name:  top\n",
      "Symbols:  [<symbol 'x'>, <symbol 'foo'>]\n"
     ]
    }
   ],
   "source": [
    "# Importing Symbol Table module. \n",
    "\n",
    "import symtable \n",
    "\n",
    "\n",
    "# Defining the source code \n",
    "\n",
    "source_code = open('Input_files/02_direct_input.py', 'r').read()\n",
    "\n",
    "\n",
    "# Generating a Symbol Table \n",
    "\n",
    "table = symtable.symtable(source_code, 'example.py', 'exec')\n",
    "\n",
    "print(\"Table Name: \", table.get_name())\n",
    "print(\"Symbols: \", table.get_symbols())"
   ]
  }
 ],
 "metadata": {
  "kernelspec": {
   "display_name": "Python 3",
   "language": "python",
   "name": "python3"
  },
  "language_info": {
   "codemirror_mode": {
    "name": "ipython",
    "version": 3
   },
   "file_extension": ".py",
   "mimetype": "text/x-python",
   "name": "python",
   "nbconvert_exporter": "python",
   "pygments_lexer": "ipython3",
   "version": "3.10.2"
  }
 },
 "nbformat": 4,
 "nbformat_minor": 5
}
