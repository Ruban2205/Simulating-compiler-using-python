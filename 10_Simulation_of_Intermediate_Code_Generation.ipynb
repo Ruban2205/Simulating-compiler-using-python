{
 "cells": [
  {
   "cell_type": "code",
   "execution_count": 5,
   "id": "d7fd3f9f",
   "metadata": {},
   "outputs": [
    {
     "name": "stdout",
     "output_type": "stream",
     "text": [
      "Enter an expression: a + b\n",
      "t1_out = a\n",
      "t2_out = t1 + b\n"
     ]
    }
   ],
   "source": [
    "# Main Function\n",
    "\n",
    "def generate_intermediate_code(expression): \n",
    "    tokens = expression.split()\n",
    "    intermediate_code = []\n",
    "    temp_var_count = 1\n",
    "    operator = None \n",
    "    \n",
    "    for i in range(len(tokens)):\n",
    "        token = tokens[i]\n",
    "        \n",
    "        if token == '+':\n",
    "            operator = '+'\n",
    "        elif token == '-':\n",
    "            operator = '-'\n",
    "        else:\n",
    "            temp_var = 't{}'.format(temp_var_count)\n",
    "            temp_var_count += 1\n",
    "            \n",
    "            if operator is None: \n",
    "                intermediate_code.append('{}_out = {}'.format(temp_var, token))\n",
    "            else: \n",
    "                prev_temp_var = 't{}'.format(temp_var_count-2)\n",
    "                intermediate_code.append('{}_out = {} {} {}'.format(temp_var, prev_temp_var, operator, token))\n",
    "            operator = None\n",
    "    return intermediate_code\n",
    "\n",
    "\n",
    "# Input and Function Call\n",
    "\n",
    "expression = input(\"Enter an expression: \")\n",
    "intermediate_code = generate_intermediate_code(expression)\n",
    "\n",
    "for code in intermediate_code: \n",
    "    print(code)"
   ]
  }
 ],
 "metadata": {
  "kernelspec": {
   "display_name": "Python 3",
   "language": "python",
   "name": "python3"
  },
  "language_info": {
   "codemirror_mode": {
    "name": "ipython",
    "version": 3
   },
   "file_extension": ".py",
   "mimetype": "text/x-python",
   "name": "python",
   "nbconvert_exporter": "python",
   "pygments_lexer": "ipython3",
   "version": "3.10.2"
  }
 },
 "nbformat": 4,
 "nbformat_minor": 5
}
