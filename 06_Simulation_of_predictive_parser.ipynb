{
 "cells": [
  {
   "cell_type": "code",
   "execution_count": 3,
   "id": "aa8bf575-f070-4216-89bd-4da58319dd4a",
   "metadata": {},
   "outputs": [
    {
     "name": "stdout",
     "output_type": "stream",
     "text": [
      "Enter the string:  abab\n"
     ]
    },
    {
     "name": "stdout",
     "output_type": "stream",
     "text": [
      "Expression not accepted by this Grammar\n"
     ]
    }
   ],
   "source": [
    "stack = []\n",
    "st = [] \n",
    "ky = []\n",
    "\n",
    "file = open('Input_files/06_input.txt', 'r').readlines()\n",
    "g = file[2].split(' ')\n",
    "l = 0\n",
    "\n",
    "for char in file[0].split(): \n",
    "    st.append(char)\n",
    "for char in file[1].split(): \n",
    "    ky.append(char)\n",
    "\n",
    "k = [0 for i in range(len(st))]\n",
    "\n",
    "for i in range(len(st)): \n",
    "    k[i] = [0 for j in range(len(ky))]\n",
    "    for j in range(len(ky)): \n",
    "        k[i][j] = g[l]\n",
    "        l += 1\n",
    "        \n",
    "def display(): \n",
    "    s = str(\".join(stack)); v=str(\".join(x))\n",
    "    print(s.ljust(10) + v.ljst(10))\n",
    "\n",
    "stack.append('$')\n",
    "stack.append(st[0])\n",
    "\n",
    "x = input('Enter the string: ') + ' $'\n",
    "\n",
    "for i in x: \n",
    "    if i in ky: \n",
    "        continue\n",
    "    if i == '': \n",
    "        continue\n",
    "    x = x.replace(i, 'id')\n",
    "x = x.split()\n",
    "\n",
    "try: \n",
    "    while True: \n",
    "        while x[0] != stack[-1]: \n",
    "            display()\n",
    "            m = ''\n",
    "            m = k[st.index(stack[-1])][ky.index(x[0])]\n",
    "            \n",
    "            if m == 'e': \n",
    "                print(stack[-1] + '----->' + m)\n",
    "                stack.pop()\n",
    "                continue\n",
    "                \n",
    "            print(stack[-1] + '----->' + m)\n",
    "            stack.pop()\n",
    "            \n",
    "            if m == x[0]: \n",
    "                stack.append(m)\n",
    "            else: \n",
    "                for j in m[::-1]: \n",
    "                    stack.append(j)\n",
    "            \n",
    "            if x[0] == stack[-1]: \n",
    "                display()\n",
    "                \n",
    "                if x[0] == '$' and stack[-1] == '$': \n",
    "                    print(\"Expression accepted by Grammar\")\n",
    "                    break\n",
    "                stack.pop()\n",
    "                x.pop(0)\n",
    "except: \n",
    "    if(ValueError):\n",
    "        print(\"Expression not accepted by this Grammar\")\n",
    "        "
   ]
  },
  {
   "cell_type": "code",
   "execution_count": null,
   "id": "de84b09f-19be-4985-b199-6a79b5d4fee6",
   "metadata": {},
   "outputs": [],
   "source": []
  }
 ],
 "metadata": {
  "kernelspec": {
   "display_name": "Python 3 (ipykernel)",
   "language": "python",
   "name": "python3"
  },
  "language_info": {
   "codemirror_mode": {
    "name": "ipython",
    "version": 3
   },
   "file_extension": ".py",
   "mimetype": "text/x-python",
   "name": "python",
   "nbconvert_exporter": "python",
   "pygments_lexer": "ipython3",
   "version": "3.9.16"
  }
 },
 "nbformat": 4,
 "nbformat_minor": 5
}
