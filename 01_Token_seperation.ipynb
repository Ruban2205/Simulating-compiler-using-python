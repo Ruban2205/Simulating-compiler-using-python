{
 "cells": [
  {
   "cell_type": "code",
   "execution_count": 11,
   "id": "6e7610ab",
   "metadata": {},
   "outputs": [
    {
     "name": "stdout",
     "output_type": "stream",
     "text": [
      "Line# 1 \n",
      " int a, b, c; \n",
      "Tokens are:  ['int', 'a,', 'b,', 'c;', '']\n",
      "Line# 1 properties \n",
      "\n",
      "Datatype is:  Integer type\n",
      "----------------------------------\n",
      "Line# 2 \n",
      " c = a + b * 20; \n",
      "Tokens are:  ['c', '=', 'a', '+', 'b', '*', '20;', '']\n",
      "Line# 2 properties \n",
      "\n",
      "c Identifier is:  id\n",
      "Operator is:  Assignment operator\n",
      "a Identifier is:  id\n",
      "Operator is:  Addition operator\n",
      "b Identifier is:  id\n",
      "Operator is:  Multiplication operator\n",
      "----------------------------------\n"
     ]
    }
   ],
   "source": [
    "import re \n",
    "\n",
    "file = open(\"Input_files/01_input.py\")\n",
    "\n",
    "operator = {'=':'Assignment operator', \n",
    "      '+':'Addition operator', \n",
    "      '-':'Subtraction operator', \n",
    "      '/':'Division operator', \n",
    "      '*':'Multiplication operator', \n",
    "      '<':'Lessthan operator', \n",
    "      '>':'Greaterthan operator'}\n",
    "op_key = operator.keys()\n",
    "\n",
    "data_type = {'int':'Integer type', \n",
    "          'float':'Floating point', \n",
    "          'char':'Character type', \n",
    "          'long':'Long integer type'}\n",
    "d_type_key = data_type.keys()\n",
    "\n",
    "punctuation_symbol = {':':'Colon', \n",
    "          ';':'Semi-colon',\n",
    "          '.':'Dot',\n",
    "          ',':'Comma'}\n",
    "pu_sym_key = punctuation_symbol.keys()\n",
    "\n",
    "identifier = {'a':'id', 'b':'id', 'c':'id', 'd':'id'}\n",
    "iden_key = identifier.keys()\n",
    "\n",
    "dataFlag = False \n",
    "\n",
    "\n",
    "input_file = file.read()\n",
    "\n",
    "count=0\n",
    "program = input_file.split(\"\\n\")\n",
    "\n",
    "for line in program: \n",
    "    count = count + 1\n",
    "    print(\"Line#\", count, \"\\n\", line)\n",
    "    \n",
    "    tokens = line.split(' ')\n",
    "    print(\"Tokens are: \", tokens)\n",
    "    print(\"Line#\", count, 'properties \\n')\n",
    "    \n",
    "    for token in tokens: \n",
    "        if token in op_key: \n",
    "            print(\"Operator is: \", operator[token])\n",
    "        if token in d_type_key: \n",
    "            print(\"Datatype is: \", data_type[token])\n",
    "        if token in pu_sym_key: \n",
    "            print(token, \"Punctuation symbol is: \", punctuation_symbo[token])\n",
    "        if token in iden_key: \n",
    "            print(token, \"Identifier is: \", ident[token])\n",
    "            \n",
    "    dataFlag = False\n",
    "    print(\"----------------------------------\")\n"
   ]
  },
  {
   "cell_type": "code",
   "execution_count": null,
   "id": "1222d66e",
   "metadata": {},
   "outputs": [],
   "source": []
  }
 ],
 "metadata": {
  "kernelspec": {
   "display_name": "Python 3",
   "language": "python",
   "name": "python3"
  },
  "language_info": {
   "codemirror_mode": {
    "name": "ipython",
    "version": 3
   },
   "file_extension": ".py",
   "mimetype": "text/x-python",
   "name": "python",
   "nbconvert_exporter": "python",
   "pygments_lexer": "ipython3",
   "version": "3.10.2"
  }
 },
 "nbformat": 4,
 "nbformat_minor": 5
}
