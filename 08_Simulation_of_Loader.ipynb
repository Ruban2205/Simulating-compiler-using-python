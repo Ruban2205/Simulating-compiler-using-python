{
 "cells": [
  {
   "cell_type": "code",
   "execution_count": 2,
   "id": "479eb630",
   "metadata": {},
   "outputs": [
    {
     "name": "stdout",
     "output_type": "stream",
     "text": [
      "The Name of the object code is: SAMPLE\n",
      "1000 00\n",
      "1001 10\n",
      "1002 03\n",
      "1003 07\n",
      "1004 10\n",
      "1005 09\n",
      "\n",
      "2000 11\n",
      "2001 11\n",
      "2002 11\n",
      "\n"
     ]
    }
   ],
   "source": [
    "# Getting the file path for the input\n",
    "\n",
    "file_path = \"Input_files/08_input.txt\"\n",
    "tokens = [[] for x in range(4)]\n",
    "\n",
    "\n",
    "# Open file for \n",
    "\n",
    "with open(file_path) as code: \n",
    "    text = code.readlines()\n",
    "    position = 0 \n",
    "    \n",
    "    for lines in text: \n",
    "        tokens[position] = lines.split('^')\n",
    "        position += 1\n",
    "print(\"The Name of the object code is: \" + tokens[0][1])\n",
    "\n",
    "\n",
    "# Main Function\n",
    "\n",
    "for lines in tokens[1:]:  \n",
    "    if lines[0] == 'E':\n",
    "        break\n",
    "        \n",
    "    counter = int(lines[1])\n",
    "    \n",
    "    for elements in lines[3:]:\n",
    "        print(counter, elements[0:2])\n",
    "        counter += 1\n",
    "        \n",
    "        print(counter, elements[2:4])\n",
    "        counter += 1\n",
    "        \n",
    "        print(counter, elements[4:])\n",
    "        counter += 1"
   ]
  },
  {
   "cell_type": "code",
   "execution_count": null,
   "id": "5577b867",
   "metadata": {},
   "outputs": [],
   "source": []
  }
 ],
 "metadata": {
  "kernelspec": {
   "display_name": "Python 3",
   "language": "python",
   "name": "python3"
  },
  "language_info": {
   "codemirror_mode": {
    "name": "ipython",
    "version": 3
   },
   "file_extension": ".py",
   "mimetype": "text/x-python",
   "name": "python",
   "nbconvert_exporter": "python",
   "pygments_lexer": "ipython3",
   "version": "3.10.2"
  }
 },
 "nbformat": 4,
 "nbformat_minor": 5
}
